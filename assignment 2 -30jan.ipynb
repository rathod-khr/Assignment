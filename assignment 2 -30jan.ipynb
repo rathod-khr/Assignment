{
 "cells": [
  {
   "cell_type": "code",
   "execution_count": 40,
   "id": "8107f88f-2e0d-4ded-89ef-bc1290954f42",
   "metadata": {},
   "outputs": [
    {
     "name": "stdin",
     "output_type": "stream",
     "text": [
      "Enter your percentage:   91\n"
     ]
    },
    {
     "name": "stdout",
     "output_type": "stream",
     "text": [
      "congratulations you passed with Grade \"A\"\n"
     ]
    }
   ],
   "source": [
    "#program to display grades acc to criteria given\n",
    "a=eval(input('Enter your percentage:  '))\n",
    "if a<60:\n",
    "    print('congratulations you passed with Grade \"D\"')\n",
    "elif 60<=a<=80:\n",
    "    print('congratulations you passed with Grade \"C\"')\n",
    "elif 80<a<=90:\n",
    "    print('congratulations you passed with Grade \"B\"')\n",
    "elif a>90:\n",
    "    print('congratulations you passed with Grade \"A\"')\n",
    "else:\n",
    "    'invalid'"
   ]
  },
  {
   "cell_type": "code",
   "execution_count": 47,
   "id": "5eed5326-d911-468f-ac88-e2e4476cc61c",
   "metadata": {},
   "outputs": [
    {
     "name": "stdin",
     "output_type": "stream",
     "text": [
      "Enter your cost price in rs:   200000\n"
     ]
    },
    {
     "name": "stdout",
     "output_type": "stream",
     "text": [
      "your calculated Road tax: 30000.0\n"
     ]
    }
   ],
   "source": [
    "#code to display road tax for bike based on cost price of bike\n",
    "\n",
    "a=eval(input('Enter your cost price in rs:  '))\n",
    "if a<=50000:\n",
    "    print('your calculated Road tax:',a*0.05)\n",
    "elif 50000<a<=100000:\n",
    "     print('your calculated Road tax:',a*0.1)\n",
    "elif a>100000:\n",
    "     print('your calculated Road tax:',a*0.15)\n",
    "else:\n",
    "    'invalid'"
   ]
  },
  {
   "cell_type": "code",
   "execution_count": 8,
   "id": "18fac635-f932-4437-af29-4572750ba458",
   "metadata": {},
   "outputs": [
    {
     "name": "stdin",
     "output_type": "stream",
     "text": [
      "Enter your city Name:   Agra\n"
     ]
    },
    {
     "name": "stdout",
     "output_type": "stream",
     "text": [
      "famous monumnets- Taj Mahal\n"
     ]
    }
   ],
   "source": [
    "#monuments display of city\n",
    "\n",
    "a=str(input('Enter your city Name:  '))\n",
    "if a=='Delhi':\n",
    "    print('famous monumnets-Red Fort')\n",
    "elif a=='Agra':\n",
    "    print('famous monumnets- Taj Mahal')\n",
    "elif a=='Jaipur':\n",
    "    print('famous monumnets - Jal Mahal')\n",
    "else:\n",
    "    print('invalid')"
   ]
  },
  {
   "cell_type": "code",
   "execution_count": 35,
   "id": "9ceffa35-055d-46af-8045-84b01b50545c",
   "metadata": {},
   "outputs": [
    {
     "name": "stdin",
     "output_type": "stream",
     "text": [
      "enter the number:  5\n"
     ]
    },
    {
     "name": "stdout",
     "output_type": "stream",
     "text": [
      "1\n"
     ]
    }
   ],
   "source": [
    "#checking how many times a number is divisible by 3 if number is less than or equal to 10.\n",
    "\n",
    "k=int(input('enter the number: '))\n",
    "if k<=10:\n",
    "    print(k//3)\n",
    "else :\n",
    "    print('Invalid')\n"
   ]
  },
  {
   "cell_type": "code",
   "execution_count": 17,
   "id": "dc116428-b095-404e-b5ee-e96849485039",
   "metadata": {},
   "outputs": [],
   "source": [
    "k=[1,10]"
   ]
  },
  {
   "cell_type": "code",
   "execution_count": 19,
   "id": "65cf2474-79e4-4ba3-a22a-38125cf7fd37",
   "metadata": {},
   "outputs": [
    {
     "data": {
      "text/plain": [
       "[1, 10]"
      ]
     },
     "execution_count": 19,
     "metadata": {},
     "output_type": "execute_result"
    }
   ],
   "source": [
    "k"
   ]
  },
  {
   "cell_type": "code",
   "execution_count": null,
   "id": "355dffe8-1621-4e8f-9cf0-78bee4afaffa",
   "metadata": {},
   "outputs": [],
   "source": []
  }
 ],
 "metadata": {
  "kernelspec": {
   "display_name": "Python 3 (ipykernel)",
   "language": "python",
   "name": "python3"
  },
  "language_info": {
   "codemirror_mode": {
    "name": "ipython",
    "version": 3
   },
   "file_extension": ".py",
   "mimetype": "text/x-python",
   "name": "python",
   "nbconvert_exporter": "python",
   "pygments_lexer": "ipython3",
   "version": "3.10.8"
  }
 },
 "nbformat": 4,
 "nbformat_minor": 5
}
